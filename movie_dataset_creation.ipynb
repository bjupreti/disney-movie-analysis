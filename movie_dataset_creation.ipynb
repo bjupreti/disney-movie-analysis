{
 "cells": [
  {
   "cell_type": "markdown",
   "id": "483b8402",
   "metadata": {},
   "source": [
    "# Scrap information of all Disney Films from Wikipedia and create a movie dataset for further analysis\n",
    "https://en.wikipedia.org/wiki/List_of_Walt_Disney_Pictures_films"
   ]
  },
  {
   "cell_type": "markdown",
   "id": "a84af43d",
   "metadata": {},
   "source": [
    "### 1. Scrap data of one movie and later use it as a function to iterate over all of the movies\n",
    "https://en.wikipedia.org/wiki/Toy_Story_3"
   ]
  },
  {
   "cell_type": "code",
   "execution_count": 22,
   "id": "941c57bf",
   "metadata": {},
   "outputs": [],
   "source": [
    "# import necessary libraries\n",
    "from bs4 import BeautifulSoup as bs\n",
    "import requests\n",
    "import json # for printing dictionaries in pretty format\n",
    "import numpy as np"
   ]
  },
  {
   "cell_type": "code",
   "execution_count": 58,
   "id": "3a5b3c19",
   "metadata": {},
   "outputs": [
    {
     "data": {
      "text/plain": [
       "{'title': 'Toy Story 3',\n",
       " 'Directed by': 'Lee Unkrich',\n",
       " 'Screenplay by': 'Michael Arndt',\n",
       " 'Story by': ['John Lasseter', 'Andrew Stanton', 'Lee Unkrich'],\n",
       " 'Produced by': 'Darla K. Anderson',\n",
       " 'Starring': ['Tom Hanks',\n",
       "  'Tim Allen',\n",
       "  'Joan Cusack',\n",
       "  'Don Rickles',\n",
       "  'Wallace Shawn',\n",
       "  'John Ratzenberger',\n",
       "  'Estelle Harris',\n",
       "  'Ned Beatty',\n",
       "  'Michael Keaton',\n",
       "  'Jodi Benson',\n",
       "  'John Morris'],\n",
       " 'Cinematography': ['Jeremy Lasky', 'Kim White'],\n",
       " 'Edited by': 'Ken Schretzmann',\n",
       " 'Music by': 'Randy Newman',\n",
       " 'Productioncompanies ': ['Walt Disney Pictures', 'Pixar Animation Studios'],\n",
       " 'Distributed by': ['Walt Disney Studios', 'Motion Pictures'],\n",
       " 'Release date': ['June\\xa012,\\xa02010 (Taormina Film Fest)',\n",
       "  'June\\xa018,\\xa02010 (United States)'],\n",
       " 'Running time': '103 minutes',\n",
       " 'Country': 'United States',\n",
       " 'Language': 'English',\n",
       " 'Budget': '$200\\xa0million',\n",
       " 'Box office': '$1.067\\xa0billion'}"
      ]
     },
     "execution_count": 58,
     "metadata": {},
     "output_type": "execute_result"
    }
   ],
   "source": [
    "def load_movie(url):\n",
    "    r = requests.get(url)\n",
    "    # convert to a beautiful soup object\n",
    "    soup = bs(r.content) # HTML Document\n",
    "    return soup \n",
    "    \n",
    "def get_data(row):\n",
    "    for tag in row(['sup', 'span']):\n",
    "        tag.decompose()\n",
    "    list = row.find_all('li')\n",
    "    if list:\n",
    "        data = [i.text for i in list]\n",
    "    elif row.select('td br'):\n",
    "        data = [text for text in row.find(class_='infobox-data').stripped_strings]\n",
    "    else:\n",
    "        data = row.find(class_='infobox-data').text\n",
    "    return data\n",
    "\n",
    "def get_movie_data(data_rows):\n",
    "    movie = {}\n",
    "    for index, row in enumerate(data_rows):\n",
    "        try:\n",
    "            if index == 0:\n",
    "                movie['title'] = row.text\n",
    "            elif index == 1:\n",
    "                continue\n",
    "            else:\n",
    "                # checking if this row has .infobox-label or not and only extracting the data if it has label\n",
    "                if row.find(class_='infobox-label'):\n",
    "                    label = row.find(class_='infobox-label').text\n",
    "                    data = get_data(row)\n",
    "                    movie[label] = data\n",
    "            # print(json.dumps(movie, indent=4, sort_keys=True))\n",
    "        except Exception as e:\n",
    "#             pass\n",
    "            print('get_movie_data error', movie['title'], index, row)\n",
    "            print(e)\n",
    "    return movie\n",
    "    \n",
    "\n",
    "def get_movie(url):\n",
    "    soup = load_movie(url) # HTML Document\n",
    "    info_box = soup.find(class_='infobox')\n",
    "    info_rows = info_box.find_all('tr')\n",
    "    movie = get_movie_data(info_rows)\n",
    "    # print(json.dumps(movie, indent=4, sort_keys=True)) # print dictionaries using pretty format\n",
    "    return movie\n",
    "\n",
    "get_movie('https://en.wikipedia.org/wiki/Toy_Story_3')"
   ]
  },
  {
   "cell_type": "markdown",
   "id": "5464f61a",
   "metadata": {},
   "source": [
    "### 2. Use `get_movie()` to scrap data of all the movies"
   ]
  },
  {
   "cell_type": "code",
   "execution_count": 13,
   "id": "e33dcb53",
   "metadata": {},
   "outputs": [],
   "source": [
    "r = requests.get('https://en.wikipedia.org/wiki/List_of_Walt_Disney_Pictures_films')\n",
    "# convert to a beautiful soup object\n",
    "soup = bs(r.content) # HTML Document"
   ]
  },
  {
   "cell_type": "code",
   "execution_count": 71,
   "id": "ceb2469e",
   "metadata": {
    "scrolled": false
   },
   "outputs": [
    {
     "name": "stdout",
     "output_type": "stream",
     "text": [
      "{'title': 'Academy Award Review of Walt Disney Cartoons', 'Productioncompany ': 'Walt Disney Productions', 'Release date': ['May\\xa019,\\xa01937'], 'Running time': '41 minutes (74 minutes 1966 release)', 'Country': 'United States', 'Language': 'English', 'Box office': '$45.472'}\n",
      "{'title': 'Snow White and the Seven Dwarfs', 'Directed by': ['David Hand', 'William Cottrell', 'Wilfred Jackson', 'Larry Morey', 'Perce Pearce', 'Ben Sharpsteen'], 'Written by': ['Ted Sears', 'Richard Creedon', 'Otto Englander', 'Dick Rickard', 'Earl Hurd', 'Merrill De Maris', 'Dorothy Ann Blank', 'Webb Smith'], 'Based on': ['Snow White', 'by The', 'Brothers Grimm'], 'Produced by': 'Walt Disney', 'Starring': ['Adriana Caselotti', 'Lucille La Verne', 'Harry Stockwell', 'Roy Atwell', 'Pinto Colvig', 'Otis Harlan', 'Scotty Mattraw', 'Billy Gilbert', 'Eddie Collins', 'Moroni Olsen', 'Stuart Buchanan'], 'Music by': ['Frank Churchill', 'Paul Smith', 'Leigh Harline'], 'Productioncompany ': 'Walt Disney Productions', 'Distributed by': 'RKO Radio Pictures', 'Release date': ['December\\xa021,\\xa01937 (Carthay Circle Theatre)'], 'Running time': '83 minutes', 'Country': 'United States', 'Language': 'English', 'Budget': '$1.49 million', 'Box office': '$418 million'}\n",
      "{'title': 'Pinocchio', 'Directed by': ['Ben Sharpsteen', 'Hamilton Luske', 'Bill Roberts', 'Norman Ferguson', 'Jack Kinney', 'Wilfred Jackson', 'T. Hee'], 'Story by': ['Ted Sears', 'Otto Englander', 'Webb Smith', 'William Cottrell', 'Joseph Sabo', 'Erdman Penner', 'Aurelius Battaglia'], 'Based on': ['The Adventures of Pinocchio', 'by', 'Carlo Collodi'], 'Produced by': 'Walt Disney', 'Starring': ['Cliff Edwards', 'Dickie Jones', 'Christian Rub', 'Walter Catlett', 'Charles Judels', 'Evelyn Venable', 'Frankie Darro'], 'Music by': ['Leigh Harline', 'Paul J. Smith'], 'Productioncompany ': 'Walt Disney Productions', 'Distributed by': 'RKO Radio Pictures', 'Release date': ['February\\xa07,\\xa01940 (Center Theatre)', 'February\\xa023,\\xa01940 (United States)'], 'Running time': '88 minutes', 'Country': 'United States', 'Language': 'English', 'Budget': '$2.6 million', 'Box office': '$164\\xa0million'}\n",
      "{'title': 'Fantasia', 'Directed by': ['Samuel Armstrong', 'James Algar', 'Bill Roberts', 'Paul Satterfield', 'Ben Sharpsteen', 'David D. Hand', 'Hamilton Luske', 'Jim Handley', 'Ford Beebe', 'T. Hee', 'Norman Ferguson', 'Wilfred Jackson'], 'Story by': ['Joe Grant', 'Dick Huemer'], 'Produced by': ['Walt Disney', 'Ben Sharpsteen'], 'Starring': ['Leopold Stokowski', 'Deems Taylor'], 'Narrated by': 'Deems Taylor', 'Cinematography': 'James Wong Howe', 'Music by': 'See program', 'Productioncompany ': 'Walt Disney Productions', 'Distributed by': 'RKO Radio Pictures', 'Release date': ['November\\xa013,\\xa01940'], 'Running time': '126 minutes', 'Country': 'United States', 'Language': 'English', 'Budget': '$2.28 million', 'Box office': '$76.4–$83.3 million (United States and Canada)'}\n",
      "{'title': 'The Reluctant Dragon', 'Directed by': ['Alfred Werker', '(live action)', 'Hamilton Luske', '(animation)', 'Jack Cutting', ',', 'Ub Iwerks', ',', 'Jack Kinney', '(sequence directors)'], 'Written by': ['Live-action:', 'Ted Sears', 'Al Perkins', 'Larry Clemmons', 'Bill Cottrell', 'Harry Clork', 'Robert Benchley', 'The Reluctant Dragon', 'segment:', 'Kenneth Grahame', '(original book)', 'Erdman Penner', 'T. Hee', 'Baby Weems', 'segment:', 'Joe Grant', 'Dick Huemer', 'John Miller'], 'Produced by': 'Walt Disney', 'Starring': ['Robert Benchley', 'Frances Gifford', 'Buddy Pepper', 'Nana Bryant'], 'Cinematography': 'Bert Glennon', 'Edited by': 'Paul Weatherwax', 'Music by': ['Frank Churchill', 'Larry Morey'], 'Productioncompany ': 'Walt Disney Productions', 'Distributed by': 'RKO Radio Pictures', 'Release date': ['June\\xa027,\\xa01941'], 'Running time': '74 minutes', 'Country': 'United States', 'Language': 'English', 'Budget': '$600,000', 'Box office': '$960,000 (worldwide rentals) '}\n"
     ]
    }
   ],
   "source": [
    "def get_movies_url_list():\n",
    "    return soup.select('.wikitable.sortable tr td:nth-child(2) i a')\n",
    "\n",
    "def get_movies():\n",
    "    movies_name_list = get_movies_url_list()\n",
    "    movies = np.array([])\n",
    "    for index,movie in enumerate(movies_name_list):\n",
    "        try:\n",
    "            title = movie['title']\n",
    "            relative_path = movie['href']\n",
    "            url = 'https://en.wikipedia.org/' + relative_path\n",
    "            single_movie_data = get_movie(url)\n",
    "            movies = np.append(movies, single_movie_data)\n",
    "        except Exception as e:\n",
    "            print('get_movies error', movie['title'])\n",
    "            print(e)\n",
    "#     print(json.dumps(movies, indent=4, sort_keys=True))\n",
    "    return movies\n",
    "\n",
    "movies = get_movies()\n",
    "\n",
    "# print sample movies list\n",
    "for i in movies[:5]:\n",
    "    print(i)\n",
    "    print('====================')"
   ]
  },
  {
   "cell_type": "markdown",
   "id": "458152b6",
   "metadata": {},
   "source": [
    "### 3. Save Data"
   ]
  },
  {
   "cell_type": "code",
   "execution_count": 73,
   "id": "7dc9cec0",
   "metadata": {},
   "outputs": [],
   "source": [
    "def save_data(path, data):\n",
    "    import json\n",
    "    with open(path, 'w', encoding='utf-8') as json_file:\n",
    "        json.dump(data, json_file, ensure_ascii=False, indent=4)\n",
    "\n",
    "save_data('./dataset/movies.json', movies.tolist()) # converting numpy arr to list"
   ]
  }
 ],
 "metadata": {
  "kernelspec": {
   "display_name": "Python 3",
   "language": "python",
   "name": "python3"
  },
  "language_info": {
   "codemirror_mode": {
    "name": "ipython",
    "version": 3
   },
   "file_extension": ".py",
   "mimetype": "text/x-python",
   "name": "python",
   "nbconvert_exporter": "python",
   "pygments_lexer": "ipython3",
   "version": "3.8.10"
  }
 },
 "nbformat": 4,
 "nbformat_minor": 5
}
